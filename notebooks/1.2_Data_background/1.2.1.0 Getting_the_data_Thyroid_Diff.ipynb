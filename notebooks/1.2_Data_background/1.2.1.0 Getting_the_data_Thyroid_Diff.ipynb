{
 "cells": [
  {
   "cell_type": "code",
   "execution_count": 4,
   "metadata": {},
   "outputs": [
    {
     "name": "stdout",
     "output_type": "stream",
     "text": [
      "Collecting ucimlrepo\n",
      "  Using cached ucimlrepo-0.0.7-py3-none-any.whl (8.0 kB)\n",
      "Requirement already satisfied: certifi>=2020.12.5 in c:\\users\\alang\\appdata\\local\\packages\\pythonsoftwarefoundation.python.3.10_qbz5n2kfra8p0\\localcache\\local-packages\\python310\\site-packages (from ucimlrepo) (2024.8.30)\n",
      "Collecting pandas>=1.0.0\n",
      "  Using cached pandas-2.2.3-cp310-cp310-win_amd64.whl (11.6 MB)\n",
      "Collecting pytz>=2020.1\n",
      "  Downloading pytz-2024.2-py2.py3-none-any.whl (508 kB)\n",
      "     ---------------------------------------- 0.0/508.0 kB ? eta -:--:--\n",
      "      --------------------------------------- 10.2/508.0 kB ? eta -:--:--\n",
      "     --- --------------------------------- 51.2/508.0 kB 525.1 kB/s eta 0:00:01\n",
      "     ------ ------------------------------ 92.2/508.0 kB 655.4 kB/s eta 0:00:01\n",
      "     -------------- ----------------------- 194.6/508.0 kB 1.1 MB/s eta 0:00:01\n",
      "     ----------------------------- -------- 389.1/508.0 kB 1.6 MB/s eta 0:00:01\n",
      "     -------------------------------------- 508.0/508.0 kB 1.9 MB/s eta 0:00:00\n",
      "Collecting numpy>=1.22.4\n",
      "  Downloading numpy-2.1.2-cp310-cp310-win_amd64.whl (12.9 MB)\n",
      "     ---------------------------------------- 0.0/12.9 MB ? eta -:--:--\n",
      "     - -------------------------------------- 0.5/12.9 MB 15.7 MB/s eta 0:00:01\n",
      "     --- ------------------------------------ 1.2/12.9 MB 15.6 MB/s eta 0:00:01\n",
      "     -------- ------------------------------- 2.8/12.9 MB 22.3 MB/s eta 0:00:01\n",
      "     --------------- ------------------------ 4.9/12.9 MB 25.8 MB/s eta 0:00:01\n",
      "     -------------------- ------------------- 6.6/12.9 MB 28.2 MB/s eta 0:00:01\n",
      "     -------------------------- ------------- 8.6/12.9 MB 30.4 MB/s eta 0:00:01\n",
      "     -------------------------- ------------- 8.6/12.9 MB 30.4 MB/s eta 0:00:01\n",
      "     ----------------------------- ---------- 9.5/12.9 MB 26.5 MB/s eta 0:00:01\n",
      "     --------------------------------------  12.9/12.9 MB 34.4 MB/s eta 0:00:01\n",
      "     --------------------------------------  12.9/12.9 MB 34.4 MB/s eta 0:00:01\n",
      "     --------------------------------------- 12.9/12.9 MB 27.3 MB/s eta 0:00:00\n",
      "Requirement already satisfied: python-dateutil>=2.8.2 in c:\\users\\alang\\appdata\\local\\packages\\pythonsoftwarefoundation.python.3.10_qbz5n2kfra8p0\\localcache\\local-packages\\python310\\site-packages (from pandas>=1.0.0->ucimlrepo) (2.9.0.post0)\n",
      "Collecting tzdata>=2022.7\n",
      "  Downloading tzdata-2024.2-py2.py3-none-any.whl (346 kB)\n",
      "     ---------------------------------------- 0.0/346.6 kB ? eta -:--:--\n",
      "     ---------------------------------------- 346.6/346.6 kB ? eta 0:00:00\n",
      "Requirement already satisfied: six>=1.5 in c:\\users\\alang\\appdata\\local\\packages\\pythonsoftwarefoundation.python.3.10_qbz5n2kfra8p0\\localcache\\local-packages\\python310\\site-packages (from python-dateutil>=2.8.2->pandas>=1.0.0->ucimlrepo) (1.16.0)\n",
      "Installing collected packages: pytz, tzdata, numpy, pandas, ucimlrepo\n",
      "Successfully installed numpy-2.1.2 pandas-2.2.3 pytz-2024.2 tzdata-2024.2 ucimlrepo-0.0.7\n"
     ]
    },
    {
     "name": "stderr",
     "output_type": "stream",
     "text": [
      "  WARNING: The scripts f2py.exe and numpy-config.exe are installed in 'C:\\Users\\alang\\AppData\\Local\\Packages\\PythonSoftwareFoundation.Python.3.10_qbz5n2kfra8p0\\LocalCache\\local-packages\\Python310\\Scripts' which is not on PATH.\n",
      "  Consider adding this directory to PATH or, if you prefer to suppress this warning, use --no-warn-script-location.\n",
      "\n",
      "[notice] A new release of pip is available: 23.0.1 -> 24.2\n",
      "[notice] To update, run: C:\\Users\\alang\\AppData\\Local\\Microsoft\\WindowsApps\\PythonSoftwareFoundation.Python.3.10_qbz5n2kfra8p0\\python.exe -m pip install --upgrade pip\n"
     ]
    }
   ],
   "source": [
    "# Si no se está usando un ambiente virtual, descomentar y ejecutar las siguientes líneas\n",
    "# !pip install numpy\n",
    "# !pip install pandas\n",
    "# !pip install ucimlrepo"
   ]
  },
  {
   "cell_type": "code",
   "execution_count": 1,
   "metadata": {},
   "outputs": [],
   "source": [
    "# Cargando las librerías\n",
    "import os\n",
    "import numpy as np\n",
    "import pandas as pd\n",
    "from ucimlrepo import fetch_ucirepo\n",
    "\n",
    "import yaml"
   ]
  },
  {
   "cell_type": "code",
   "execution_count": 3,
   "metadata": {},
   "outputs": [],
   "source": [
    "# Importamos el dataset\n",
    "differentiated_thyroid_cancer_recurrence = fetch_ucirepo(id=915) "
   ]
  },
  {
   "cell_type": "code",
   "execution_count": 4,
   "metadata": {},
   "outputs": [],
   "source": [
    "# Data (as pandas dataframes) \n",
    "X = differentiated_thyroid_cancer_recurrence.data.features \n",
    "y = differentiated_thyroid_cancer_recurrence.data.targets"
   ]
  },
  {
   "cell_type": "code",
   "execution_count": 7,
   "metadata": {},
   "outputs": [
    {
     "name": "stdout",
     "output_type": "stream",
     "text": [
      "   Age Gender Smoking Hx Smoking Hx Radiothreapy Thyroid Function  \\\n",
      "0   27      F      No         No              No        Euthyroid   \n",
      "1   34      F      No        Yes              No        Euthyroid   \n",
      "2   30      F      No         No              No        Euthyroid   \n",
      "3   62      F      No         No              No        Euthyroid   \n",
      "4   62      F      No         No              No        Euthyroid   \n",
      "\n",
      "          Physical Examination Adenopathy       Pathology     Focality Risk  \\\n",
      "0   Single nodular goiter-left         No  Micropapillary    Uni-Focal  Low   \n",
      "1          Multinodular goiter         No  Micropapillary    Uni-Focal  Low   \n",
      "2  Single nodular goiter-right         No  Micropapillary    Uni-Focal  Low   \n",
      "3  Single nodular goiter-right         No  Micropapillary    Uni-Focal  Low   \n",
      "4          Multinodular goiter         No  Micropapillary  Multi-Focal  Low   \n",
      "\n",
      "     T   N   M Stage       Response  \n",
      "0  T1a  N0  M0     I  Indeterminate  \n",
      "1  T1a  N0  M0     I      Excellent  \n",
      "2  T1a  N0  M0     I      Excellent  \n",
      "3  T1a  N0  M0     I      Excellent  \n",
      "4  T1a  N0  M0     I      Excellent  \n"
     ]
    }
   ],
   "source": [
    "print(X.head())"
   ]
  },
  {
   "cell_type": "code",
   "execution_count": 8,
   "metadata": {},
   "outputs": [
    {
     "name": "stdout",
     "output_type": "stream",
     "text": [
      "  Recurred\n",
      "0       No\n",
      "1       No\n",
      "2       No\n",
      "3       No\n",
      "4       No\n"
     ]
    }
   ],
   "source": [
    "print(y.head())"
   ]
  },
  {
   "cell_type": "code",
   "execution_count": 9,
   "metadata": {},
   "outputs": [
    {
     "name": "stdout",
     "output_type": "stream",
     "text": [
      "{'uci_id': 915, 'name': 'Differentiated Thyroid Cancer Recurrence', 'repository_url': 'https://archive.ics.uci.edu/dataset/915/differentiated+thyroid+cancer+recurrence', 'data_url': 'https://archive.ics.uci.edu/static/public/915/data.csv', 'abstract': 'This data set contains 13 clinicopathologic features aiming to predict recurrence of well differentiated thyroid cancer. The data set was collected in duration of 15 years and each patient was followed for at least 10 years.', 'area': 'Health and Medicine', 'tasks': ['Classification'], 'characteristics': ['Tabular'], 'num_instances': 383, 'num_features': 16, 'feature_types': ['Real', 'Categorical', 'Integer'], 'demographics': ['Age', 'Gender'], 'target_col': ['Recurred'], 'index_col': None, 'has_missing_values': 'no', 'missing_values_symbol': None, 'year_of_dataset_creation': 2023, 'last_updated': 'Wed Mar 20 2024', 'dataset_doi': '10.24432/C5632J', 'creators': ['Shiva Borzooei', 'Aidin Tarokhian'], 'intro_paper': {'ID': 333, 'type': 'NATIVE', 'title': 'Machine learning for risk stratification of thyroid cancer patients: a 15-year cohort study', 'authors': 'Shiva Borzooei, Giovanni Briganti, Mitra Golparian, Jerome R. Lechien, Aidin Tarokhian', 'venue': 'Head and Neck', 'year': 2023, 'journal': None, 'DOI': None, 'URL': 'https://link.springer.com/article/10.1007/s00405-023-08299-w', 'sha': None, 'corpus': None, 'arxiv': None, 'mag': None, 'acl': None, 'pmid': None, 'pmcid': None}, 'additional_info': {'summary': None, 'purpose': 'It was a part of research in the field of AI and Medicine', 'funded_by': 'No funding was provided.', 'instances_represent': 'Individual patients', 'recommended_data_splits': 'No', 'sensitive_data': 'No', 'preprocessing_description': None, 'variable_info': None, 'citation': 'Please cite the original article if you use the data set for secondary research and public demonstrations:\\nhttps://doi.org/10.1007/s00405-023-08299-w'}}\n"
     ]
    }
   ],
   "source": [
    "# Revisamos la metadata\n",
    "print(differentiated_thyroid_cancer_recurrence.metadata) "
   ]
  },
  {
   "cell_type": "code",
   "execution_count": 10,
   "metadata": {},
   "outputs": [
    {
     "name": "stdout",
     "output_type": "stream",
     "text": [
      "                    name     role         type demographic description units  \\\n",
      "0                    Age  Feature      Integer         Age        None  None   \n",
      "1                 Gender  Feature  Categorical      Gender        None  None   \n",
      "2                Smoking  Feature  Categorical        None        None  None   \n",
      "3             Hx Smoking  Feature  Categorical        None        None  None   \n",
      "4        Hx Radiothreapy  Feature  Categorical        None        None  None   \n",
      "5       Thyroid Function  Feature  Categorical        None        None  None   \n",
      "6   Physical Examination  Feature  Categorical        None        None  None   \n",
      "7             Adenopathy  Feature  Categorical        None        None  None   \n",
      "8              Pathology  Feature  Categorical        None        None  None   \n",
      "9               Focality  Feature  Categorical        None        None  None   \n",
      "10                  Risk  Feature  Categorical        None        None  None   \n",
      "11                     T  Feature  Categorical        None        None  None   \n",
      "12                     N  Feature  Categorical        None        None  None   \n",
      "13                     M  Feature  Categorical        None        None  None   \n",
      "14                 Stage  Feature  Categorical        None        None  None   \n",
      "15              Response  Feature  Categorical        None        None  None   \n",
      "16              Recurred   Target  Categorical        None        None  None   \n",
      "\n",
      "   missing_values  \n",
      "0              no  \n",
      "1              no  \n",
      "2              no  \n",
      "3              no  \n",
      "4              no  \n",
      "5              no  \n",
      "6              no  \n",
      "7              no  \n",
      "8              no  \n",
      "9              no  \n",
      "10             no  \n",
      "11             no  \n",
      "12             no  \n",
      "13             no  \n",
      "14             no  \n",
      "15             no  \n",
      "16             no  \n"
     ]
    }
   ],
   "source": [
    "# Revisamos la information de las variables\n",
    "print(differentiated_thyroid_cancer_recurrence.variables) "
   ]
  },
  {
   "cell_type": "code",
   "execution_count": 11,
   "metadata": {},
   "outputs": [
    {
     "data": {
      "text/html": [
       "<div>\n",
       "<style scoped>\n",
       "    .dataframe tbody tr th:only-of-type {\n",
       "        vertical-align: middle;\n",
       "    }\n",
       "\n",
       "    .dataframe tbody tr th {\n",
       "        vertical-align: top;\n",
       "    }\n",
       "\n",
       "    .dataframe thead th {\n",
       "        text-align: right;\n",
       "    }\n",
       "</style>\n",
       "<table border=\"1\" class=\"dataframe\">\n",
       "  <thead>\n",
       "    <tr style=\"text-align: right;\">\n",
       "      <th></th>\n",
       "      <th>Age</th>\n",
       "      <th>Gender</th>\n",
       "      <th>Smoking</th>\n",
       "      <th>Hx Smoking</th>\n",
       "      <th>Hx Radiothreapy</th>\n",
       "      <th>Thyroid Function</th>\n",
       "      <th>Physical Examination</th>\n",
       "      <th>Adenopathy</th>\n",
       "      <th>Pathology</th>\n",
       "      <th>Focality</th>\n",
       "      <th>Risk</th>\n",
       "      <th>T</th>\n",
       "      <th>N</th>\n",
       "      <th>M</th>\n",
       "      <th>Stage</th>\n",
       "      <th>Response</th>\n",
       "      <th>Recurred</th>\n",
       "    </tr>\n",
       "  </thead>\n",
       "  <tbody>\n",
       "    <tr>\n",
       "      <th>0</th>\n",
       "      <td>27</td>\n",
       "      <td>F</td>\n",
       "      <td>No</td>\n",
       "      <td>No</td>\n",
       "      <td>No</td>\n",
       "      <td>Euthyroid</td>\n",
       "      <td>Single nodular goiter-left</td>\n",
       "      <td>No</td>\n",
       "      <td>Micropapillary</td>\n",
       "      <td>Uni-Focal</td>\n",
       "      <td>Low</td>\n",
       "      <td>T1a</td>\n",
       "      <td>N0</td>\n",
       "      <td>M0</td>\n",
       "      <td>I</td>\n",
       "      <td>Indeterminate</td>\n",
       "      <td>No</td>\n",
       "    </tr>\n",
       "    <tr>\n",
       "      <th>1</th>\n",
       "      <td>34</td>\n",
       "      <td>F</td>\n",
       "      <td>No</td>\n",
       "      <td>Yes</td>\n",
       "      <td>No</td>\n",
       "      <td>Euthyroid</td>\n",
       "      <td>Multinodular goiter</td>\n",
       "      <td>No</td>\n",
       "      <td>Micropapillary</td>\n",
       "      <td>Uni-Focal</td>\n",
       "      <td>Low</td>\n",
       "      <td>T1a</td>\n",
       "      <td>N0</td>\n",
       "      <td>M0</td>\n",
       "      <td>I</td>\n",
       "      <td>Excellent</td>\n",
       "      <td>No</td>\n",
       "    </tr>\n",
       "    <tr>\n",
       "      <th>2</th>\n",
       "      <td>30</td>\n",
       "      <td>F</td>\n",
       "      <td>No</td>\n",
       "      <td>No</td>\n",
       "      <td>No</td>\n",
       "      <td>Euthyroid</td>\n",
       "      <td>Single nodular goiter-right</td>\n",
       "      <td>No</td>\n",
       "      <td>Micropapillary</td>\n",
       "      <td>Uni-Focal</td>\n",
       "      <td>Low</td>\n",
       "      <td>T1a</td>\n",
       "      <td>N0</td>\n",
       "      <td>M0</td>\n",
       "      <td>I</td>\n",
       "      <td>Excellent</td>\n",
       "      <td>No</td>\n",
       "    </tr>\n",
       "    <tr>\n",
       "      <th>3</th>\n",
       "      <td>62</td>\n",
       "      <td>F</td>\n",
       "      <td>No</td>\n",
       "      <td>No</td>\n",
       "      <td>No</td>\n",
       "      <td>Euthyroid</td>\n",
       "      <td>Single nodular goiter-right</td>\n",
       "      <td>No</td>\n",
       "      <td>Micropapillary</td>\n",
       "      <td>Uni-Focal</td>\n",
       "      <td>Low</td>\n",
       "      <td>T1a</td>\n",
       "      <td>N0</td>\n",
       "      <td>M0</td>\n",
       "      <td>I</td>\n",
       "      <td>Excellent</td>\n",
       "      <td>No</td>\n",
       "    </tr>\n",
       "    <tr>\n",
       "      <th>4</th>\n",
       "      <td>62</td>\n",
       "      <td>F</td>\n",
       "      <td>No</td>\n",
       "      <td>No</td>\n",
       "      <td>No</td>\n",
       "      <td>Euthyroid</td>\n",
       "      <td>Multinodular goiter</td>\n",
       "      <td>No</td>\n",
       "      <td>Micropapillary</td>\n",
       "      <td>Multi-Focal</td>\n",
       "      <td>Low</td>\n",
       "      <td>T1a</td>\n",
       "      <td>N0</td>\n",
       "      <td>M0</td>\n",
       "      <td>I</td>\n",
       "      <td>Excellent</td>\n",
       "      <td>No</td>\n",
       "    </tr>\n",
       "  </tbody>\n",
       "</table>\n",
       "</div>"
      ],
      "text/plain": [
       "   Age Gender Smoking Hx Smoking Hx Radiothreapy Thyroid Function  \\\n",
       "0   27      F      No         No              No        Euthyroid   \n",
       "1   34      F      No        Yes              No        Euthyroid   \n",
       "2   30      F      No         No              No        Euthyroid   \n",
       "3   62      F      No         No              No        Euthyroid   \n",
       "4   62      F      No         No              No        Euthyroid   \n",
       "\n",
       "          Physical Examination Adenopathy       Pathology     Focality Risk  \\\n",
       "0   Single nodular goiter-left         No  Micropapillary    Uni-Focal  Low   \n",
       "1          Multinodular goiter         No  Micropapillary    Uni-Focal  Low   \n",
       "2  Single nodular goiter-right         No  Micropapillary    Uni-Focal  Low   \n",
       "3  Single nodular goiter-right         No  Micropapillary    Uni-Focal  Low   \n",
       "4          Multinodular goiter         No  Micropapillary  Multi-Focal  Low   \n",
       "\n",
       "     T   N   M Stage       Response Recurred  \n",
       "0  T1a  N0  M0     I  Indeterminate       No  \n",
       "1  T1a  N0  M0     I      Excellent       No  \n",
       "2  T1a  N0  M0     I      Excellent       No  \n",
       "3  T1a  N0  M0     I      Excellent       No  \n",
       "4  T1a  N0  M0     I      Excellent       No  "
      ]
     },
     "execution_count": 11,
     "metadata": {},
     "output_type": "execute_result"
    }
   ],
   "source": [
    "# Concatenamos ambos datasets (feature y target)\n",
    "diff_thyroid_df = pd.concat([X, y], axis = 1)\n",
    "diff_thyroid_df.head()"
   ]
  },
  {
   "cell_type": "code",
   "execution_count": 28,
   "metadata": {},
   "outputs": [],
   "source": [
    "# Generamos la ruta en donde se almacenará\n",
    "# directory = r'D:\\ITESM\\MNA-MLOps-Main\\MLOps-private\\data\\raw'\n",
    "directory = '.\\\\MLOps-private\\\\data\\\\raw'\n",
    "file_path = os.path.join(directory, 'diff_thyroid_df.csv')\n",
    "\n",
    "os.makedirs(directory, exist_ok=True)"
   ]
  },
  {
   "cell_type": "code",
   "execution_count": 29,
   "metadata": {},
   "outputs": [],
   "source": [
    "#  Guardamos el dataset completo\n",
    "diff_thyroid_df.to_csv(file_path, index=False)"
   ]
  }
 ],
 "metadata": {
  "kernelspec": {
   "display_name": "Python 3",
   "language": "python",
   "name": "python3"
  },
  "language_info": {
   "codemirror_mode": {
    "name": "ipython",
    "version": 3
   },
   "file_extension": ".py",
   "mimetype": "text/x-python",
   "name": "python",
   "nbconvert_exporter": "python",
   "pygments_lexer": "ipython3",
   "version": "3.10.0"
  }
 },
 "nbformat": 4,
 "nbformat_minor": 2
}
